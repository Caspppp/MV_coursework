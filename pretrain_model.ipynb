{
 "cells": [
  {
   "cell_type": "markdown",
   "metadata": {},
   "source": [
    "Train the four models"
   ]
  },
  {
   "cell_type": "code",
   "execution_count": 1,
   "metadata": {},
   "outputs": [
    {
     "name": "stderr",
     "output_type": "stream",
     "text": [
      "2023-12-14 02:18:00.012351: I tensorflow/core/util/port.cc:110] oneDNN custom operations are on. You may see slightly different numerical results due to floating-point round-off errors from different computation orders. To turn them off, set the environment variable `TF_ENABLE_ONEDNN_OPTS=0`.\n",
      "2023-12-14 02:18:00.064703: I tensorflow/core/platform/cpu_feature_guard.cc:182] This TensorFlow binary is optimized to use available CPU instructions in performance-critical operations.\n",
      "To enable the following instructions: AVX2 AVX512F AVX512_VNNI FMA, in other operations, rebuild TensorFlow with the appropriate compiler flags.\n",
      "2023-12-14 02:18:00.888567: W tensorflow/compiler/tf2tensorrt/utils/py_utils.cc:38] TF-TRT Warning: Could not find TensorRT\n"
     ]
    },
    {
     "name": "stdout",
     "output_type": "stream",
     "text": [
      "Found 3323 images belonging to 2 classes.\n",
      "Found 710 images belonging to 2 classes.\n"
     ]
    },
    {
     "name": "stderr",
     "output_type": "stream",
     "text": [
      "2023-12-14 02:18:01.904758: I tensorflow/compiler/xla/stream_executor/cuda/cuda_gpu_executor.cc:995] successful NUMA node read from SysFS had negative value (-1), but there must be at least one NUMA node, so returning NUMA node zero. See more at https://github.com/torvalds/linux/blob/v6.0/Documentation/ABI/testing/sysfs-bus-pci#L344-L355\n",
      "2023-12-14 02:18:01.919196: I tensorflow/compiler/xla/stream_executor/cuda/cuda_gpu_executor.cc:995] successful NUMA node read from SysFS had negative value (-1), but there must be at least one NUMA node, so returning NUMA node zero. See more at https://github.com/torvalds/linux/blob/v6.0/Documentation/ABI/testing/sysfs-bus-pci#L344-L355\n",
      "2023-12-14 02:18:01.919446: I tensorflow/compiler/xla/stream_executor/cuda/cuda_gpu_executor.cc:995] successful NUMA node read from SysFS had negative value (-1), but there must be at least one NUMA node, so returning NUMA node zero. See more at https://github.com/torvalds/linux/blob/v6.0/Documentation/ABI/testing/sysfs-bus-pci#L344-L355\n",
      "2023-12-14 02:18:01.920920: I tensorflow/compiler/xla/stream_executor/cuda/cuda_gpu_executor.cc:995] successful NUMA node read from SysFS had negative value (-1), but there must be at least one NUMA node, so returning NUMA node zero. See more at https://github.com/torvalds/linux/blob/v6.0/Documentation/ABI/testing/sysfs-bus-pci#L344-L355\n",
      "2023-12-14 02:18:01.921165: I tensorflow/compiler/xla/stream_executor/cuda/cuda_gpu_executor.cc:995] successful NUMA node read from SysFS had negative value (-1), but there must be at least one NUMA node, so returning NUMA node zero. See more at https://github.com/torvalds/linux/blob/v6.0/Documentation/ABI/testing/sysfs-bus-pci#L344-L355\n",
      "2023-12-14 02:18:01.921356: I tensorflow/compiler/xla/stream_executor/cuda/cuda_gpu_executor.cc:995] successful NUMA node read from SysFS had negative value (-1), but there must be at least one NUMA node, so returning NUMA node zero. See more at https://github.com/torvalds/linux/blob/v6.0/Documentation/ABI/testing/sysfs-bus-pci#L344-L355\n",
      "2023-12-14 02:18:02.788543: I tensorflow/compiler/xla/stream_executor/cuda/cuda_gpu_executor.cc:995] successful NUMA node read from SysFS had negative value (-1), but there must be at least one NUMA node, so returning NUMA node zero. See more at https://github.com/torvalds/linux/blob/v6.0/Documentation/ABI/testing/sysfs-bus-pci#L344-L355\n",
      "2023-12-14 02:18:02.788788: I tensorflow/compiler/xla/stream_executor/cuda/cuda_gpu_executor.cc:995] successful NUMA node read from SysFS had negative value (-1), but there must be at least one NUMA node, so returning NUMA node zero. See more at https://github.com/torvalds/linux/blob/v6.0/Documentation/ABI/testing/sysfs-bus-pci#L344-L355\n",
      "2023-12-14 02:18:02.788925: I tensorflow/compiler/xla/stream_executor/cuda/cuda_gpu_executor.cc:995] successful NUMA node read from SysFS had negative value (-1), but there must be at least one NUMA node, so returning NUMA node zero. See more at https://github.com/torvalds/linux/blob/v6.0/Documentation/ABI/testing/sysfs-bus-pci#L344-L355\n",
      "2023-12-14 02:18:02.789026: W tensorflow/core/common_runtime/gpu/gpu_bfc_allocator.cc:47] Overriding orig_value setting because the TF_FORCE_GPU_ALLOW_GROWTH environment variable is set. Original config value was 0.\n",
      "2023-12-14 02:18:02.789063: I tensorflow/core/common_runtime/gpu/gpu_device.cc:1639] Created device /job:localhost/replica:0/task:0/device:GPU:0 with 14606 MB memory:  -> device: 0, name: Tesla V100-SXM2-16GB, pci bus id: 0000:10:00.0, compute capability: 7.0\n"
     ]
    },
    {
     "name": "stdout",
     "output_type": "stream",
     "text": [
      "Training with ResNet50\n"
     ]
    },
    {
     "name": "stderr",
     "output_type": "stream",
     "text": [
      "WARNING:absl:`lr` is deprecated in Keras optimizer, please use `learning_rate` or use the legacy optimizer, e.g.,tf.keras.optimizers.legacy.Adam.\n"
     ]
    },
    {
     "name": "stdout",
     "output_type": "stream",
     "text": [
      "Epoch 1/10\n"
     ]
    },
    {
     "name": "stderr",
     "output_type": "stream",
     "text": [
      "2023-12-14 02:18:18.961354: I tensorflow/compiler/xla/stream_executor/cuda/cuda_dnn.cc:432] Loaded cuDNN version 8600\n",
      "2023-12-14 02:18:20.275501: I tensorflow/compiler/xla/service/service.cc:168] XLA service 0x1cb875c0 initialized for platform CUDA (this does not guarantee that XLA will be used). Devices:\n",
      "2023-12-14 02:18:20.275602: I tensorflow/compiler/xla/service/service.cc:176]   StreamExecutor device (0): Tesla V100-SXM2-16GB, Compute Capability 7.0\n",
      "2023-12-14 02:18:20.288122: I tensorflow/compiler/mlir/tensorflow/utils/dump_mlir_util.cc:255] disabling MLIR crash reproducer, set env var `MLIR_CRASH_REPRODUCER_DIRECTORY` to enable.\n",
      "2023-12-14 02:18:20.474019: I ./tensorflow/compiler/jit/device_compiler.h:186] Compiled cluster using XLA!  This line is logged at most once for the lifetime of the process.\n"
     ]
    },
    {
     "name": "stdout",
     "output_type": "stream",
     "text": [
      "104/104 [==============================] - 68s 357ms/step - loss: 2.1707 - accuracy: 0.5248 - val_loss: 0.6931 - val_accuracy: 0.5070\n",
      "Epoch 2/10\n",
      "104/104 [==============================] - 35s 331ms/step - loss: 1.0351 - accuracy: 0.5293 - val_loss: 0.6931 - val_accuracy: 0.5070\n",
      "Epoch 3/10\n",
      "104/104 [==============================] - 35s 331ms/step - loss: 0.9029 - accuracy: 0.5287 - val_loss: 0.6931 - val_accuracy: 0.5070\n",
      "Epoch 4/10\n",
      "104/104 [==============================] - 33s 319ms/step - loss: 0.8344 - accuracy: 0.5317 - val_loss: 0.6930 - val_accuracy: 0.5070\n",
      "Epoch 5/10\n",
      "104/104 [==============================] - 35s 329ms/step - loss: 0.7641 - accuracy: 0.5317 - val_loss: 0.6931 - val_accuracy: 0.5070\n",
      "Epoch 6/10\n",
      "104/104 [==============================] - 35s 338ms/step - loss: 0.8448 - accuracy: 0.5263 - val_loss: 0.6931 - val_accuracy: 0.5070\n",
      "Epoch 7/10\n",
      "104/104 [==============================] - 34s 326ms/step - loss: 0.7506 - accuracy: 0.5339 - val_loss: 0.6931 - val_accuracy: 0.5070\n",
      "Epoch 8/10\n",
      "104/104 [==============================] - 35s 339ms/step - loss: 0.7902 - accuracy: 0.5299 - val_loss: 0.6931 - val_accuracy: 0.5070\n",
      "Epoch 9/10\n",
      "104/104 [==============================] - 36s 342ms/step - loss: 0.7425 - accuracy: 0.5275 - val_loss: 0.6931 - val_accuracy: 0.5070\n",
      "Epoch 10/10\n",
      "104/104 [==============================] - 35s 335ms/step - loss: 0.8894 - accuracy: 0.5224 - val_loss: 0.6937 - val_accuracy: 0.5070\n"
     ]
    },
    {
     "name": "stderr",
     "output_type": "stream",
     "text": [
      "/environment/miniconda3/lib/python3.10/site-packages/keras/src/engine/training.py:3000: UserWarning: You are saving your model as an HDF5 file via `model.save()`. This file format is considered legacy. We recommend using instead the native Keras format, e.g. `model.save('my_model.keras')`.\n",
      "  saving_api.save_model(\n",
      "WARNING:absl:`lr` is deprecated in Keras optimizer, please use `learning_rate` or use the legacy optimizer, e.g.,tf.keras.optimizers.legacy.Adam.\n"
     ]
    },
    {
     "name": "stdout",
     "output_type": "stream",
     "text": [
      "Training with VGG16\n",
      "Epoch 1/10\n",
      "104/104 [==============================] - 44s 360ms/step - loss: 0.8732 - accuracy: 0.5068 - val_loss: 0.7003 - val_accuracy: 0.5070\n",
      "Epoch 2/10\n",
      "104/104 [==============================] - 36s 345ms/step - loss: 0.7011 - accuracy: 0.5086 - val_loss: 0.6958 - val_accuracy: 0.5070\n",
      "Epoch 3/10\n",
      "104/104 [==============================] - 35s 338ms/step - loss: 0.6945 - accuracy: 0.5119 - val_loss: 0.6939 - val_accuracy: 0.4930\n",
      "Epoch 4/10\n",
      "104/104 [==============================] - 35s 335ms/step - loss: 0.6946 - accuracy: 0.5083 - val_loss: 0.6930 - val_accuracy: 0.5070\n",
      "Epoch 5/10\n",
      "104/104 [==============================] - 34s 325ms/step - loss: 0.6933 - accuracy: 0.4980 - val_loss: 0.6932 - val_accuracy: 0.4930\n",
      "Epoch 6/10\n",
      "104/104 [==============================] - 33s 314ms/step - loss: 0.6932 - accuracy: 0.5008 - val_loss: 0.6931 - val_accuracy: 0.5070\n",
      "Epoch 7/10\n",
      "104/104 [==============================] - 34s 326ms/step - loss: 0.6931 - accuracy: 0.5071 - val_loss: 0.6931 - val_accuracy: 0.5070\n",
      "Epoch 8/10\n",
      "104/104 [==============================] - 33s 315ms/step - loss: 0.6931 - accuracy: 0.5071 - val_loss: 0.6931 - val_accuracy: 0.5070\n",
      "Epoch 9/10\n",
      "104/104 [==============================] - 35s 331ms/step - loss: 0.6931 - accuracy: 0.5071 - val_loss: 0.6931 - val_accuracy: 0.5070\n",
      "Epoch 10/10\n",
      "104/104 [==============================] - 33s 319ms/step - loss: 0.6931 - accuracy: 0.5071 - val_loss: 0.6931 - val_accuracy: 0.5070\n",
      "Training with InceptionV3\n"
     ]
    },
    {
     "name": "stderr",
     "output_type": "stream",
     "text": [
      "WARNING:absl:`lr` is deprecated in Keras optimizer, please use `learning_rate` or use the legacy optimizer, e.g.,tf.keras.optimizers.legacy.Adam.\n"
     ]
    },
    {
     "name": "stdout",
     "output_type": "stream",
     "text": [
      "Epoch 1/10\n",
      "104/104 [==============================] - 63s 358ms/step - loss: 0.9682 - accuracy: 0.5796 - val_loss: 31855.5410 - val_accuracy: 0.5070\n",
      "Epoch 2/10\n",
      "104/104 [==============================] - 35s 331ms/step - loss: 0.5987 - accuracy: 0.7307 - val_loss: 0.7415 - val_accuracy: 0.6042\n",
      "Epoch 3/10\n",
      "104/104 [==============================] - 34s 327ms/step - loss: 0.6372 - accuracy: 0.7571 - val_loss: 1.6190 - val_accuracy: 0.5577\n",
      "Epoch 4/10\n",
      "104/104 [==============================] - 35s 332ms/step - loss: 0.5190 - accuracy: 0.7993 - val_loss: 1.5180 - val_accuracy: 0.5465\n",
      "Epoch 5/10\n",
      "104/104 [==============================] - 34s 324ms/step - loss: 0.4273 - accuracy: 0.8516 - val_loss: 169.9324 - val_accuracy: 0.5099\n",
      "Epoch 6/10\n",
      "104/104 [==============================] - 35s 335ms/step - loss: 0.3003 - accuracy: 0.8971 - val_loss: 406.0359 - val_accuracy: 0.4859\n",
      "Epoch 7/10\n",
      "104/104 [==============================] - 35s 331ms/step - loss: 0.3614 - accuracy: 0.8562 - val_loss: 136.9081 - val_accuracy: 0.4930\n",
      "Epoch 8/10\n",
      "104/104 [==============================] - 34s 329ms/step - loss: 0.3083 - accuracy: 0.8926 - val_loss: 6.9004 - val_accuracy: 0.5648\n",
      "Epoch 9/10\n",
      "104/104 [==============================] - 35s 332ms/step - loss: 0.1974 - accuracy: 0.9239 - val_loss: 0.9855 - val_accuracy: 0.6394\n",
      "Epoch 10/10\n",
      "104/104 [==============================] - 33s 313ms/step - loss: 0.2964 - accuracy: 0.8884 - val_loss: 227.3578 - val_accuracy: 0.5296\n",
      "Training with MobileNetV2\n"
     ]
    },
    {
     "name": "stderr",
     "output_type": "stream",
     "text": [
      "WARNING:absl:`lr` is deprecated in Keras optimizer, please use `learning_rate` or use the legacy optimizer, e.g.,tf.keras.optimizers.legacy.Adam.\n"
     ]
    },
    {
     "name": "stdout",
     "output_type": "stream",
     "text": [
      "Epoch 1/10\n",
      "104/104 [==============================] - 58s 331ms/step - loss: 1.0563 - accuracy: 0.6864 - val_loss: 19.3890 - val_accuracy: 0.4930\n",
      "Epoch 2/10\n",
      "104/104 [==============================] - 34s 322ms/step - loss: 0.6499 - accuracy: 0.7346 - val_loss: 31.1952 - val_accuracy: 0.4930\n",
      "Epoch 3/10\n",
      "104/104 [==============================] - 35s 339ms/step - loss: 0.6615 - accuracy: 0.7316 - val_loss: 6.7901 - val_accuracy: 0.5380\n",
      "Epoch 4/10\n",
      "104/104 [==============================] - 35s 334ms/step - loss: 0.6835 - accuracy: 0.7617 - val_loss: 12.7473 - val_accuracy: 0.4930\n",
      "Epoch 5/10\n",
      "104/104 [==============================] - 34s 328ms/step - loss: 0.5694 - accuracy: 0.7975 - val_loss: 7.2061 - val_accuracy: 0.4930\n",
      "Epoch 6/10\n",
      "104/104 [==============================] - 35s 331ms/step - loss: 0.6079 - accuracy: 0.7833 - val_loss: 3.0739 - val_accuracy: 0.5394\n",
      "Epoch 7/10\n",
      "104/104 [==============================] - 32s 311ms/step - loss: 0.5650 - accuracy: 0.7662 - val_loss: 5.5964 - val_accuracy: 0.5070\n",
      "Epoch 8/10\n",
      "104/104 [==============================] - 33s 318ms/step - loss: 0.4484 - accuracy: 0.8074 - val_loss: 10.8224 - val_accuracy: 0.3803\n",
      "Epoch 9/10\n",
      "104/104 [==============================] - 33s 318ms/step - loss: 0.3104 - accuracy: 0.8697 - val_loss: 11.3108 - val_accuracy: 0.4958\n",
      "Epoch 10/10\n",
      "104/104 [==============================] - 33s 318ms/step - loss: 0.2834 - accuracy: 0.8838 - val_loss: 8.3769 - val_accuracy: 0.4338\n"
     ]
    }
   ],
   "source": [
    "import os\n",
    "import tensorflow as tf\n",
    "from tensorflow.keras.preprocessing.image import ImageDataGenerator\n",
    "from tensorflow.keras.applications import ResNet50, VGG16, InceptionV3, MobileNetV2\n",
    "from tensorflow.keras.models import Sequential\n",
    "from tensorflow.keras.layers import Dense, Flatten\n",
    "from tensorflow.keras.optimizers import Adam\n",
    "\n",
    "\n",
    "train_dir = './train'\n",
    "validation_dir = './validation'\n",
    "test_dir = './test'\n",
    "\n",
    "\n",
    "datagen = ImageDataGenerator(\n",
    "    rescale=1.0/255,\n",
    "    rotation_range=10,\n",
    "    width_shift_range=0.05,\n",
    "    height_shift_range=0.05,\n",
    "    zoom_range=0.1,\n",
    "    horizontal_flip=True,\n",
    "    fill_mode='nearest'\n",
    ")\n",
    "\n",
    "\n",
    "train_generator = datagen.flow_from_directory(\n",
    "    train_dir,\n",
    "    target_size=(224, 224),\n",
    "    batch_size=32,\n",
    "    class_mode='binary')\n",
    "\n",
    "validation_generator = datagen.flow_from_directory(\n",
    "    validation_dir,\n",
    "    target_size=(224, 224),\n",
    "    batch_size=32,\n",
    "    class_mode='binary')\n",
    "\n",
    "\n",
    "def build_model(base_model):\n",
    "    model = Sequential()\n",
    "    model.add(base_model)\n",
    "    model.add(Flatten())\n",
    "    model.add(Dense(1, activation='sigmoid'))\n",
    "    model.compile(optimizer=Adam(lr=1e-4), loss='binary_crossentropy', metrics=['accuracy'])\n",
    "    return model\n",
    "\n",
    "models = {\n",
    "    'ResNet50': ResNet50(weights='imagenet', include_top=False, input_shape=(224, 224, 3)),\n",
    "    'VGG16': VGG16(weights='imagenet', include_top=False, input_shape=(224, 224, 3)),\n",
    "    'InceptionV3': InceptionV3(weights='imagenet', include_top=False, input_shape=(224, 224, 3)),\n",
    "    'MobileNetV2': MobileNetV2(weights='imagenet', include_top=False, input_shape=(224, 224, 3))\n",
    "}\n",
    "\n",
    "train_histories = {}\n",
    "\n",
    "for name, base_model in models.items():\n",
    "    print(f\"Training with {name}\")\n",
    "    model = build_model(base_model)\n",
    "    history = model.fit(train_generator, validation_data=validation_generator, epochs=10)\n",
    "    train_histories[name] = history\n",
    "    model.save(f'{name}_model.h5')\n"
   ]
  },
  {
   "cell_type": "code",
   "execution_count": null,
   "metadata": {},
   "outputs": [],
   "source": [
    "import matplotlib.pyplot as plt\n",
    "\n",
    "loss_values = {}\n",
    "acc_values = {}\n",
    "\n",
    "for model_name in train_histories:\n",
    "    history = train_histories[model_name].history\n",
    "    loss_values[model_name] = history['loss']\n",
    "    acc_values[model_name] = history['accuracy']\n",
    "\n",
    "\n",
    "plt.figure(figsize=(14, 6))\n",
    "plt.subplot(1, 2, 1)\n",
    "for model_name in loss_values:\n",
    "    plt.plot(loss_values[model_name], label=model_name)\n",
    "plt.title('Training Loss per Epoch')\n",
    "plt.ylabel('Loss')\n",
    "plt.xlabel('Epoch')\n",
    "plt.legend()\n",
    "\n",
    "\n",
    "plt.subplot(1, 2, 2)\n",
    "for model_name in acc_values:\n",
    "    plt.plot(acc_values[model_name], label=model_name)\n",
    "plt.title('Training Accuracy per Epoch')\n",
    "plt.ylabel('Accuracy')\n",
    "plt.xlabel('Epoch')\n",
    "plt.legend()\n",
    "\n",
    "plt.tight_layout()\n",
    "plt.show()\n",
    "\n"
   ]
  },
  {
   "cell_type": "code",
   "execution_count": 3,
   "metadata": {},
   "outputs": [
    {
     "name": "stdout",
     "output_type": "stream",
     "text": [
      "Found 99 images belonging to 2 classes.\n",
      "4/4 [==============================] - 4s 603ms/step - loss: 0.6648 - accuracy: 0.7374\n",
      "模型 ResNet50 在测试集上的准确度: 0.74\n",
      "4/4 [==============================] - 3s 641ms/step - loss: 0.6888 - accuracy: 0.7374\n",
      "模型 VGG16 在测试集上的准确度: 0.74\n",
      "4/4 [==============================] - 4s 667ms/step - loss: 185.0092 - accuracy: 0.5556\n",
      "模型 InceptionV3 在测试集上的准确度: 0.56\n",
      "4/4 [==============================] - 3s 591ms/step - loss: 4.3439 - accuracy: 0.5960\n",
      "模型 MobileNetV2 在测试集上的准确度: 0.60\n"
     ]
    },
    {
     "name": "stderr",
     "output_type": "stream",
     "text": [
      "/environment/miniconda3/lib/python3.10/site-packages/IPython/core/pylabtools.py:152: UserWarning: Glyph 20934 (\\N{CJK UNIFIED IDEOGRAPH-51C6}) missing from current font.\n",
      "  fig.canvas.print_figure(bytes_io, **kw)\n",
      "/environment/miniconda3/lib/python3.10/site-packages/IPython/core/pylabtools.py:152: UserWarning: Glyph 30830 (\\N{CJK UNIFIED IDEOGRAPH-786E}) missing from current font.\n",
      "  fig.canvas.print_figure(bytes_io, **kw)\n",
      "/environment/miniconda3/lib/python3.10/site-packages/IPython/core/pylabtools.py:152: UserWarning: Glyph 24230 (\\N{CJK UNIFIED IDEOGRAPH-5EA6}) missing from current font.\n",
      "  fig.canvas.print_figure(bytes_io, **kw)\n",
      "/environment/miniconda3/lib/python3.10/site-packages/IPython/core/pylabtools.py:152: UserWarning: Glyph 19981 (\\N{CJK UNIFIED IDEOGRAPH-4E0D}) missing from current font.\n",
      "  fig.canvas.print_figure(bytes_io, **kw)\n",
      "/environment/miniconda3/lib/python3.10/site-packages/IPython/core/pylabtools.py:152: UserWarning: Glyph 21516 (\\N{CJK UNIFIED IDEOGRAPH-540C}) missing from current font.\n",
      "  fig.canvas.print_figure(bytes_io, **kw)\n",
      "/environment/miniconda3/lib/python3.10/site-packages/IPython/core/pylabtools.py:152: UserWarning: Glyph 27169 (\\N{CJK UNIFIED IDEOGRAPH-6A21}) missing from current font.\n",
      "  fig.canvas.print_figure(bytes_io, **kw)\n",
      "/environment/miniconda3/lib/python3.10/site-packages/IPython/core/pylabtools.py:152: UserWarning: Glyph 22411 (\\N{CJK UNIFIED IDEOGRAPH-578B}) missing from current font.\n",
      "  fig.canvas.print_figure(bytes_io, **kw)\n",
      "/environment/miniconda3/lib/python3.10/site-packages/IPython/core/pylabtools.py:152: UserWarning: Glyph 22312 (\\N{CJK UNIFIED IDEOGRAPH-5728}) missing from current font.\n",
      "  fig.canvas.print_figure(bytes_io, **kw)\n",
      "/environment/miniconda3/lib/python3.10/site-packages/IPython/core/pylabtools.py:152: UserWarning: Glyph 27979 (\\N{CJK UNIFIED IDEOGRAPH-6D4B}) missing from current font.\n",
      "  fig.canvas.print_figure(bytes_io, **kw)\n",
      "/environment/miniconda3/lib/python3.10/site-packages/IPython/core/pylabtools.py:152: UserWarning: Glyph 35797 (\\N{CJK UNIFIED IDEOGRAPH-8BD5}) missing from current font.\n",
      "  fig.canvas.print_figure(bytes_io, **kw)\n",
      "/environment/miniconda3/lib/python3.10/site-packages/IPython/core/pylabtools.py:152: UserWarning: Glyph 38598 (\\N{CJK UNIFIED IDEOGRAPH-96C6}) missing from current font.\n",
      "  fig.canvas.print_figure(bytes_io, **kw)\n",
      "/environment/miniconda3/lib/python3.10/site-packages/IPython/core/pylabtools.py:152: UserWarning: Glyph 19978 (\\N{CJK UNIFIED IDEOGRAPH-4E0A}) missing from current font.\n",
      "  fig.canvas.print_figure(bytes_io, **kw)\n",
      "/environment/miniconda3/lib/python3.10/site-packages/IPython/core/pylabtools.py:152: UserWarning: Glyph 30340 (\\N{CJK UNIFIED IDEOGRAPH-7684}) missing from current font.\n",
      "  fig.canvas.print_figure(bytes_io, **kw)\n"
     ]
    },
    {
     "data": {
      "image/png": "[encoded data removed]",
      "text/plain": [
       "<Figure size 1000x600 with 1 Axes>"
      ]
     },
     "metadata": {},
     "output_type": "display_data"
    }
   ],
   "source": [
    "import os\n",
    "import tensorflow as tf\n",
    "from tensorflow.keras.preprocessing.image import ImageDataGenerator\n",
    "from tensorflow.keras.applications import ResNet50, VGG16, InceptionV3, MobileNetV2\n",
    "from tensorflow.keras.models import Sequential\n",
    "from tensorflow.keras.layers import Dense, Flatten\n",
    "from tensorflow.keras.optimizers import Adam\n",
    "\n",
    "train_dir = './train'\n",
    "validation_dir = './validation'\n",
    "test_dir = './test'\n",
    "\n",
    "test_datagen = ImageDataGenerator(rescale=1.0/255)\n",
    "test_generator = test_datagen.flow_from_directory(\n",
    "    test_dir,\n",
    "    target_size=(224, 224),\n",
    "    batch_size=32,\n",
    "    class_mode='binary',\n",
    "    shuffle=False)\n",
    "\n",
    "import matplotlib.pyplot as plt\n",
    "from tensorflow.keras.models import load_model\n",
    "\n",
    "model_names = ['ResNet50', 'VGG16', 'InceptionV3', 'MobileNetV2']\n",
    "\n",
    "accuracies = []\n",
    "for model_name in model_names:\n",
    "    model = load_model(f'{model_name}_model.h5')\n",
    "    loss, accuracy = model.evaluate(test_generator)\n",
    "    accuracies.append(accuracy)\n",
    "    print(f'Model {model_name} Accuracy on Test Set: {accuracy:.2f}')\n",
    "\n",
    "plt.figure(figsize=(10, 6))\n",
    "plt.bar(model_names, accuracies, color='skyblue')\n",
    "plt.xlabel('Model')\n",
    "plt.ylabel('Accuracy')\n",
    "plt.title('Accuracy of Different Models on the Test Set')\n",
    "plt.ylim([0, 1])\n",
    "for i in range(len(accuracies)):\n",
    "    plt.text(i, accuracies[i], f'{accuracies[i]:.2f}', ha='center')\n",
    "\n",
    "plt.show()\n"
   ]
  },
  {
   "cell_type": "code",
   "execution_count": null,
   "metadata": {},
   "outputs": [],
   "source": [
    "import csv\n",
    "histories_dir = './model_histories'\n",
    "if not os.path.exists(histories_dir):\n",
    "    os.makedirs(histories_dir)\n",
    "\n",
    "for name, history in train_histories.items():\n",
    "    history_path = os.path.join(histories_dir, f'{name}_history.csv')\n",
    "    with open(history_path, mode='w', newline='') as file:\n",
    "        writer = csv.writer(file)\n",
    "        writer.writerow(['epoch', 'loss', 'accuracy', 'val_loss', 'val_accuracy'])\n",
    "        \n",
    "        for i in range(len(history.history['loss'])):\n",
    "            writer.writerow([i, \n",
    "                             history.history['loss'][i], \n",
    "                             history.history['accuracy'][i], \n",
    "                             history.history['val_loss'][i], \n",
    "                             history.history['val_accuracy'][i]])"
   ]
  },
  {
   "cell_type": "code",
   "execution_count": 5,
   "metadata": {},
   "outputs": [
    {
     "name": "stdout",
     "output_type": "stream",
     "text": [
      "4/4 [==============================] - 4s 631ms/step\n",
      "Results for InceptionV3_model.h5:\n",
      "Precision: 0.36363636363636365\n",
      "Accuracy: 0.5555555555555556\n",
      "Recall: 0.9230769230769231\n",
      "F1: 0.5217391304347827\n",
      "Specificity: 0.4246575342465753\n",
      "ROC-AUC: 0.6122233930453109\n",
      "Confusion Matrix:\n",
      "TN: 31, FP: 42, FN: 2, TP: 24\n",
      "\n",
      "\n",
      "4/4 [==============================] - 3s 540ms/step\n",
      "Results for MobileNetV2_model.h5:\n",
      "Precision: 0.37037037037037035\n",
      "Accuracy: 0.5959595959595959\n",
      "Recall: 0.7692307692307693\n",
      "F1: 0.5\n",
      "Specificity: 0.5342465753424658\n",
      "ROC-AUC: 0.696259220231823\n",
      "Confusion Matrix:\n",
      "TN: 39, FP: 34, FN: 6, TP: 20\n",
      "\n",
      "\n",
      "4/4 [==============================] - 3s 573ms/step\n",
      "Results for ResNet50_model.h5:\n",
      "Precision: 0.0\n",
      "Accuracy: 0.7373737373737373\n",
      "Recall: 0.0\n",
      "F1: 0.0\n",
      "Specificity: 1.0\n",
      "ROC-AUC: 0.5152792413066385\n",
      "Confusion Matrix:\n",
      "TN: 73, FP: 0, FN: 26, TP: 0\n",
      "\n",
      "\n"
     ]
    },
    {
     "name": "stderr",
     "output_type": "stream",
     "text": [
      "/environment/miniconda3/lib/python3.10/site-packages/sklearn/metrics/_classification.py:1471: UndefinedMetricWarning: Precision and F-score are ill-defined and being set to 0.0 in labels with no predicted samples. Use `zero_division` parameter to control this behavior.\n",
      "  _warn_prf(average, modifier, msg_start, len(result))\n",
      "/environment/miniconda3/lib/python3.10/site-packages/sklearn/metrics/_classification.py:1471: UndefinedMetricWarning: Precision and F-score are ill-defined and being set to 0.0 in labels with no predicted samples. Use `zero_division` parameter to control this behavior.\n",
      "  _warn_prf(average, modifier, msg_start, len(result))\n",
      "/environment/miniconda3/lib/python3.10/site-packages/sklearn/metrics/_classification.py:1471: UndefinedMetricWarning: Precision and F-score are ill-defined and being set to 0.0 in labels with no predicted samples. Use `zero_division` parameter to control this behavior.\n",
      "  _warn_prf(average, modifier, msg_start, len(result))\n"
     ]
    },
    {
     "name": "stdout",
     "output_type": "stream",
     "text": [
      "4/4 [==============================] - 3s 522ms/step\n",
      "Results for VGG16_model.h5:\n",
      "Precision: 0.0\n",
      "Accuracy: 0.7373737373737373\n",
      "Recall: 0.0\n",
      "F1: 0.0\n",
      "Specificity: 1.0\n",
      "ROC-AUC: 0.5\n",
      "Confusion Matrix:\n",
      "TN: 73, FP: 0, FN: 26, TP: 0\n",
      "\n",
      "\n"
     ]
    },
    {
     "name": "stderr",
     "output_type": "stream",
     "text": [
      "/environment/miniconda3/lib/python3.10/site-packages/sklearn/metrics/_classification.py:1471: UndefinedMetricWarning: Precision and F-score are ill-defined and being set to 0.0 in labels with no predicted samples. Use `zero_division` parameter to control this behavior.\n",
      "  _warn_prf(average, modifier, msg_start, len(result))\n",
      "/environment/miniconda3/lib/python3.10/site-packages/sklearn/metrics/_classification.py:1471: UndefinedMetricWarning: Precision and F-score are ill-defined and being set to 0.0 in labels with no predicted samples. Use `zero_division` parameter to control this behavior.\n",
      "  _warn_prf(average, modifier, msg_start, len(result))\n",
      "/environment/miniconda3/lib/python3.10/site-packages/sklearn/metrics/_classification.py:1471: UndefinedMetricWarning: Precision and F-score are ill-defined and being set to 0.0 in labels with no predicted samples. Use `zero_division` parameter to control this behavior.\n",
      "  _warn_prf(average, modifier, msg_start, len(result))\n"
     ]
    }
   ],
   "source": [
    "import os\n",
    "from keras.models import load_model\n",
    "from keras.preprocessing.image import ImageDataGenerator\n",
    "from sklearn.metrics import classification_report, roc_auc_score, confusion_matrix\n",
    "\n",
    "\n",
    "models_path = '/home/featurize/data/pretrain/'\n",
    "data_path = '/home/featurize/data/pretrain/test'\n",
    "\n",
    "models = ['InceptionV3_model.h5', 'MobileNetV2_model.h5', 'ResNet50_model.h5', 'VGG16_model.h5']\n",
    "\n",
    "\n",
    "# test_datagen = ImageDataGenerator(rescale=1./255)\n",
    "# test_generator = test_datagen.flow_from_directory(\n",
    "#     data_path,\n",
    "#     target_size=(image_size, image_size), \n",
    "#     batch_size=batch_size,\n",
    "#     class_mode='binary',  # 或者 'categorical'，\n",
    "#     shuffle=False)\n",
    "\n",
    "\n",
    "def evaluate_model(model_path, test_generator):\n",
    "    model = load_model(model_path, compile=False)\n",
    "    \n",
    "\n",
    "    predictions = model.predict(test_generator)\n",
    "    y_pred = [1 if x > 0.5 else 0 for x in predictions]  \n",
    "    y_true = test_generator.classes\n",
    "    \n",
    "\n",
    "    report = classification_report(y_true, y_pred, output_dict=True)\n",
    "    roc_auc = roc_auc_score(y_true, predictions)\n",
    "    tn, fp, fn, tp = confusion_matrix(y_true, y_pred).ravel()\n",
    "    specificity = tn / (tn+fp)\n",
    "\n",
    "    print(f\"Results for {os.path.basename(model_path)}:\")\n",
    "    print(f\"Precision: {report['1']['precision']}\")\n",
    "    print(f\"Accuracy: {report['accuracy']}\")\n",
    "    print(f\"Recall: {report['1']['recall']}\")\n",
    "    print(f\"F1: {report['1']['f1-score']}\")\n",
    "    print(f\"Specificity: {specificity}\")\n",
    "    print(f\"ROC-AUC: {roc_auc}\")\n",
    "    print(\"Confusion Matrix:\")\n",
    "    print(f\"TN: {tn}, FP: {fp}, FN: {fn}, TP: {tp}\")\n",
    "    print(\"\\n\")\n",
    "\n",
    "\n",
    "for model_name in models:\n",
    "    model_path = os.path.join(models_path, model_name)\n",
    "    evaluate_model(model_path, test_generator)\n"
   ]
  },
  {
   "cell_type": "code",
   "execution_count": null,
   "metadata": {},
   "outputs": [],
   "source": []
  }
 ],
 "metadata": {
  "kernelspec": {
   "display_name": "Python 3 (ipykernel)",
   "language": "python",
   "name": "python3"
  },
  "language_info": {
   "codemirror_mode": {
    "name": "ipython",
    "version": 3
   },
   "file_extension": ".py",
   "mimetype": "text/x-python",
   "name": "python",
   "nbconvert_exporter": "python",
   "pygments_lexer": "ipython3",
   "version": "3.10.12"
  }
 },
 "nbformat": 4,
 "nbformat_minor": 4
}
